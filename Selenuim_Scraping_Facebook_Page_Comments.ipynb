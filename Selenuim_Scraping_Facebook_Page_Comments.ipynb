{
 "cells": [
  {
   "cell_type": "markdown",
   "id": "a3e56f7a",
   "metadata": {},
   "source": [
    "<!DOCTYPE html>\n",
    "<html>\n",
    "<head>\n",
    "<style>\n",
    "  body {\n",
    "    background-color: #f9f9f9;\n",
    "    font-family: Arial, sans-serif;\n",
    "  }\n",
    "\n",
    "  h1 {\n",
    "    text-align: center;\n",
    "    color: rgb(255,0,0); /* Red color */\n",
    "    font-size: 36px;\n",
    "  }\n",
    "\n",
    "  .emoji {\n",
    "    font-size: 24px;\n",
    "    margin-right: 10px;\n",
    "  }\n",
    "</style>\n",
    "</head>\n",
    "<body>\n",
    "\n",
    "<h1 align='center'><span class=\"emoji\">🕷️</span> Selenium: Scraping Facebook Page Comments <span class=\"emoji\">📝</span></h1>\n",
    "\n",
    "</body>\n",
    "</html>\n",
    "\n",
    "\n",
    "\n",
    "\n",
    "<br><br>\n"
   ]
  },
  {
   "cell_type": "markdown",
   "id": "7311ac27",
   "metadata": {},
   "source": [
    "\n",
    "<br>\n",
    "\n",
    "#### 📱🌐 Introduction to Selenium Facebook Comments Scraping 🚀🔍\n",
    "\n",
    "In today's digital age, social media platforms like `Facebook`🌐 have become an integral part of our lives, connecting people from all corners of the world. With billions of active users, Facebook is not just a platform for social interactions, but also a treasure trove of valuable data. For researchers, marketers, and data enthusiasts, extracting information from Facebook can be a powerful tool for gaining insights into user behavior, sentiments, and trends.\n",
    "\n",
    "One of the most sought-after pieces of information on Facebook is user comments📊📈. Comments on posts, articles, or advertisements can provide valuable feedback, opinions, and engagement levels. However, extracting and analyzing large volumes of comments manually is a daunting task. That's where web scraping and automation tools like `Selenium`🛠️🕸️ come to the rescue."
   ]
  },
  {
   "cell_type": "markdown",
   "id": "7c6da6bf",
   "metadata": {},
   "source": [
    "## 1.Load Labraries :"
   ]
  },
  {
   "cell_type": "code",
   "execution_count": null,
   "id": "2bd47572",
   "metadata": {},
   "outputs": [],
   "source": [
    "from selenium import webdriver\n",
    "from webdriver_manager.chrome import ChromeDriverManager\n",
    "from selenium.webdriver.common.keys import Keys\n",
    "from selenium.webdriver.common.by import By\n",
    "from selenium.webdriver.chrome.options import Options\n",
    "from selenium.webdriver.support.ui import WebDriverWait\n",
    "from selenium.webdriver.support import expected_conditions as EC\n",
    "from webdriver_manager.chrome import ChromeDriverManager\n",
    "from selenium import webdriver\n",
    "from selenium.common.exceptions import NoSuchElementException, ElementClickInterceptedException, ElementNotInteractableException\n",
    "import pandas as pd\n",
    "import time\n",
    "from bs4 import BeautifulSoup\n",
    "import warnings\n",
    "warnings.filterwarnings('ignore')"
   ]
  },
  {
   "cell_type": "markdown",
   "id": "91cb00b6",
   "metadata": {},
   "source": [
    "## 2.Scraping Task:"
   ]
  },
  {
   "cell_type": "markdown",
   "id": "a379e697",
   "metadata": {},
   "source": [
    "### 2.1.Configure Driver :"
   ]
  },
  {
   "cell_type": "code",
   "execution_count": null,
   "id": "0fa6dd49",
   "metadata": {
    "scrolled": true
   },
   "outputs": [],
   "source": [
    "from selenium.webdriver.edge.options import Options as EdgeOptions\n",
    "from webdriver_manager.microsoft import EdgeChromiumDriverManager\n",
    "from selenium import webdriver\n",
    "\n",
    "def open_edge_browser():\n",
    "    # Create Edge options and add the disable notifications argument (optional)\n",
    "    edge_options = EdgeOptions()\n",
    "    # If you want to disable notifications, use the line below:\n",
    "    edge_options.add_argument(\"--disable-notifications\")\n",
    "\n",
    "    # Initialize the Edge driver with the options\n",
    "    driver = webdriver.Edge(executable_path=EdgeChromiumDriverManager().install(), options=edge_options)\n",
    "    return driver"
   ]
  },
  {
   "cell_type": "markdown",
   "id": "f47a08c3",
   "metadata": {},
   "source": [
    "### 2.2. Fcebook Sign In :"
   ]
  },
  {
   "cell_type": "code",
   "execution_count": null,
   "id": "5c305f75",
   "metadata": {},
   "outputs": [],
   "source": [
    "def facebook_sign_in(email,password,driver):\n",
    "    \"\"\"\n",
    "    Sign in to Facebook using the provided email and password.\n",
    "\n",
    "    Args:\n",
    "        email (str): The email or username used for logging in.\n",
    "        password (str): The password associated with the email/username.\n",
    "\n",
    "    Returns:\n",
    "        None\n",
    "    \"\"\"\n",
    "    \n",
    "    driver.get('https://www.facebook.com/login.php?login_attempt=1&lwv=110')\n",
    "    print(\"Opened facebook...\")\n",
    "    email_tag = driver.find_element_by_xpath(\"//input[@id='email' or @name='email']\")\n",
    "    email_tag.send_keys(email)\n",
    "    print(\"email entered...\")\n",
    "    password_ = driver.find_element_by_xpath(\"//input[@id='pass']\")\n",
    "    password_.send_keys(password)\n",
    "    print(\"Password entered...\")\n",
    "    button = driver.find_element_by_xpath(\"//button[@id='loginbutton']\")\n",
    "    button.click()\n",
    "    print(\"facebook opened\")\n"
   ]
  },
  {
   "cell_type": "markdown",
   "id": "a7127175",
   "metadata": {},
   "source": [
    "## 2.3. Locate Facebook Page :"
   ]
  },
  {
   "cell_type": "code",
   "execution_count": null,
   "id": "b41ac8a2",
   "metadata": {},
   "outputs": [],
   "source": [
    "def find_page(page_name,driver):\n",
    "    \"\"\"\n",
    "    Search and navigate to a Facebook page using the provided page name.\n",
    "\n",
    "    Args:\n",
    "        page_name (str): The name of the Facebook page to search for.\n",
    "        driver (WebDriver): The WebDriver instance representing the browser.\n",
    "\n",
    "    Returns:\n",
    "        None\n",
    "    \"\"\"\n",
    "    # Perform the search\n",
    "    time.sleep(5)\n",
    "    # Find the search input field and enter the page name\n",
    "    search = driver.find_element_by_css_selector(\"[class='x1a2a7pz x1qjc9v5 xnwf7zb x40j3uw x1s7lred x15gyhx8 x9f619 x78zum5 x1fns5xo x1n2onr6 xh8yej3 x1ba4aug xmjcpbm']\")\n",
    "    time.sleep(1)\n",
    "    search.send_keys(page_name)\n",
    "    time.sleep(5)\n",
    "    # Find the search button and click it\n",
    "    search_button = driver.find_element_by_css_selector(\"[class='x9f619 x1n2onr6 x1ja2u2z x78zum5 x1r8uery x1iyjqo2 xs83m0k xeuugli x1qughib x6s0dn4 xozqiw3 x1q0g3np xykv574 xbmpl8g x4cne27 xifccgj']\")\n",
    "    search_button.click()\n",
    "    time.sleep(5)\n",
    "    # Find the section containing the search results for pages and click on the 6th result (filter search to include only pages)\n",
    "    page_section = driver.find_elements_by_css_selector(\"div[role='listitem']\")\n",
    "    time.sleep(5)\n",
    "    page_section[6].click()\n",
    "    time.sleep(5)\n",
    "    # Find the link to the enterprise page and click it\n",
    "    enterprise_page = driver.find_elements_by_css_selector(\"[class='x1i10hfl xjbqb8w x6umtig x1b1mbwd xaqea5y xav7gou x9f619 x1ypdohk xt0psk2 xe8uvvx xdj266r x11i5rnm xat24cr x1mh8g0r xexx8yu x4uap5 x18d9i69 xkhd6sd x16tdsg8 x1hl2dhg xggy1nq x1a2a7pz xt0b8zv xzsf02u x1s688f']\")\n",
    "    time.sleep(5)\n",
    "    enterprise_page[0].click()"
   ]
  },
  {
   "cell_type": "markdown",
   "id": "9b79ec90",
   "metadata": {},
   "source": [
    "### 2.4. Scrape Comments :"
   ]
  },
  {
   "cell_type": "code",
   "execution_count": null,
   "id": "2413ee67",
   "metadata": {},
   "outputs": [],
   "source": [
    "def scrape_comments(driver,NUM=50):\n",
    "    \"\"\"\n",
    "    Scrape comments from Facebook posts by clicking on \"Voir plus de commentaires\" button.\n",
    "\n",
    "    Args:\n",
    "        NUM (int, optional): Number of times to scroll and load more comments. Default is 50.\n",
    "\n",
    "    Returns:\n",
    "        list: List containing all scraped comments.\n",
    "    \"\"\"\n",
    "    \n",
    "    time.sleep(3)\n",
    "    all_buttons=[]\n",
    "    comments=[]\n",
    "\n",
    "    for i in range(NUM):\n",
    "        \n",
    "        #Click on the \"Voir plus de commentaires\" button to open the comments frame\n",
    "        voir_plus_buttons = driver.find_elements_by_css_selector(\"[class='x1i10hfl xjbqb8w xjqpnuy xa49m3k xqeqjp1 x2hbi6w x13fuv20 xu3j5b3 x1q0q8m5 x26u7qi x972fbf xcfux6l x1qhh985 xm0m39n x9f619 x1ypdohk xdl72j9 xe8uvvx xdj266r x11i5rnm xat24cr x1mh8g0r x2lwn1j xeuugli xexx8yu x18d9i69 xkhd6sd x1n2onr6 x16tdsg8 x1hl2dhg xggy1nq x1ja2u2z x1t137rt x1o1ewxj x3x9cwd x1e5q0jg x13rtm0m x3nfvp2 x1q0g3np x87ps6o x1a2a7pz x6s0dn4 xi81zsa x1iyjqo2 xs83m0k xsyo7zv xt0b8zv']\")\n",
    "        time.sleep(1)\n",
    "        for voir_plus_button in voir_plus_buttons:\n",
    "\n",
    "            time.sleep(1)\n",
    "            # Check if the button has already been clicked\n",
    "            if voir_plus_button not in all_buttons:\n",
    "            \n",
    "                try :\n",
    "                    voir_plus_button.click()\n",
    "                    # Switch to the comments frame\n",
    "                    time.sleep(3)\n",
    "                    iframe_div = driver.find_element_by_css_selector(\"[class='x1jx94hy']\")\n",
    "                    # Extract the HTML content of the comments frame\n",
    "                    time.sleep(3)\n",
    "                    comments_frame_html = iframe_div.get_attribute('outerHTML')\n",
    "\n",
    "                    # Parse the comments frame HTML using BeautifulSoup\n",
    "                    soup = BeautifulSoup(comments_frame_html, 'html.parser')\n",
    "                    time.sleep(3)\n",
    "                    # Scrape comments from the parsed HTML using BeautifulSoup\n",
    "                    comments_container=soup.select(\"[class='x193iq5w xeuugli x13faqbe x1vvkbs x1xmvt09 x1lliihq x1s928wv xhkezso x1gmr53x x1cpjm7i x1fgarty x1943h6x xudqn12 x3x7a5m x6prxxf xvq8zen xo1l8bm xzsf02u']\")\n",
    "                    for comment in comments_container:\n",
    "                        comments.append(comment.text)\n",
    "                    #driver.switch_to.default_content()\n",
    "                    time.sleep(3)\n",
    "                    exit = driver.find_element_by_css_selector(\"[class='x1i10hfl x6umtig x1b1mbwd xaqea5y xav7gou x1ypdohk xe8uvvx xdj266r x11i5rnm xat24cr x1mh8g0r x16tdsg8 x1hl2dhg xggy1nq x87ps6o x1lku1pv x1a2a7pz x6s0dn4 x14yjl9h xudhj91 x18nykt9 xww2gxu x972fbf xcfux6l x1qhh985 xm0m39n x9f619 x78zum5 xl56j7k xexx8yu x4uap5 x18d9i69 xkhd6sd x1n2onr6 xc9qbxq x14qfxbe x1qhmfi1']\")\n",
    "                    exit.click()\n",
    "\n",
    "                except :\n",
    "                    pass\n",
    "        # Scroll to the bottom of the page to load more comments\n",
    "        driver.execute_script(\"window.scrollTo(0, document.body.scrollHeight);\")\n",
    "        time.sleep(10)\n",
    "        driver.switch_to.default_content()\n",
    "        time.sleep(10)\n",
    "    return comments"
   ]
  },
  {
   "cell_type": "markdown",
   "id": "ad3f9d4b",
   "metadata": {},
   "source": [
    "## 3. Run Code :"
   ]
  },
  {
   "cell_type": "code",
   "execution_count": null,
   "id": "24475059",
   "metadata": {},
   "outputs": [],
   "source": [
    "# Initialize variables (you need to provide valid values)\n",
    "email = 'your_email@example.com'\n",
    "password = 'your_facebook_password'\n",
    "enterprise_page = 'enterprise_page_name'\n",
    "# Open the Edge browser using the provided function\n",
    "driver=open_edge_browser()\n",
    "# Sign in to Facebook using the provided credentials\n",
    "facebook_sign_in(email,password,driver)\n",
    "# Find the specified Facebook page using the provided name\n",
    "find_page(enterprise_page,driver)\n",
    "# Scrape comments from the Facebook page\n",
    "comments=scrape_comments(driver,NUM=50)"
   ]
  }
 ],
 "metadata": {
  "kernelspec": {
   "display_name": "Python 3 (ipykernel)",
   "language": "python",
   "name": "python3"
  },
  "language_info": {
   "codemirror_mode": {
    "name": "ipython",
    "version": 3
   },
   "file_extension": ".py",
   "mimetype": "text/x-python",
   "name": "python",
   "nbconvert_exporter": "python",
   "pygments_lexer": "ipython3",
   "version": "3.9.7"
  }
 },
 "nbformat": 4,
 "nbformat_minor": 5
}
