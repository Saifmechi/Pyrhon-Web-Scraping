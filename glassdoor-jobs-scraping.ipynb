{
 "cells": [
  {
   "cell_type": "markdown",
   "metadata": {},
   "source": [
    "<h1 align='center'><span class=\\\"emoji\\\">🕷️</span> Selenium:Scraping Glassdoor Jobs<span class=\\\"emoji\\\">📝</span></h1>"
   ]
  },
  {
   "cell_type": "markdown",
   "metadata": {},
   "source": [
    "Introducing our web scraping notebook powered by Python and Selenium! 🚀 In this notebook, we embark on a quest to gather valuable job information and company insights from the enchanted realm of Glassdoor. 🧙‍♂️ Our goal is to find the perfect job fit for aspiring job seekers in the realm of technology.\n",
    "\n",
    "With the magical capabilities of Selenium, we'll cast spells to navigate through Glassdoor's job listings, extracting essential details like job titles, salaries, and company reviews. Armed with Python's scripting prowess, we'll transform raw web data into valuable insights that will aid in making informed career decisions."
   ]
  },
  {
   "cell_type": "markdown",
   "metadata": {},
   "source": [
    "# 1.Load Labraries :"
   ]
  },
  {
   "cell_type": "code",
   "execution_count": 1,
   "metadata": {},
   "outputs": [],
   "source": [
    "from selenium import webdriver\n",
    "from webdriver_manager.chrome import ChromeDriverManager\n",
    "from selenium.webdriver.common.keys import Keys\n",
    "from selenium.webdriver.common.by import By\n",
    "from selenium.webdriver.chrome.options import Options\n",
    "from webdriver_manager.chrome import ChromeDriverManager\n",
    "from selenium import webdriver\n",
    "from selenium.webdriver.edge.options import Options as EdgeOptions\n",
    "from webdriver_manager.microsoft import EdgeChromiumDriverManager\n",
    "\n",
    "from selenium.common.exceptions import NoSuchElementException, ElementClickInterceptedException, ElementNotInteractableException\n",
    "import pandas as pd\n",
    "import time\n",
    "from bs4 import BeautifulSoup\n",
    "import warnings\n",
    "warnings.filterwarnings('ignore')"
   ]
  },
  {
   "cell_type": "markdown",
   "metadata": {},
   "source": [
    "# 2.Open Driver :"
   ]
  },
  {
   "cell_type": "code",
   "execution_count": 2,
   "metadata": {},
   "outputs": [],
   "source": [
    "def open_edge_browser():\n",
    "    # Create Edge options and add the disable notifications argument (optional)\n",
    "    edge_options = EdgeOptions()\n",
    "    # If you want to disable notifications, use the line below:\n",
    "    edge_options.add_argument(\"--disable-notifications\")\n",
    "\n",
    "    # Initialize the Edge driver with the options\n",
    "    driver = webdriver.Edge(executable_path=EdgeChromiumDriverManager().install(), options=edge_options)\n",
    "    return driver\n"
   ]
  },
  {
   "cell_type": "markdown",
   "metadata": {},
   "source": [
    "# 3.Scraping Script :"
   ]
  },
  {
   "cell_type": "code",
   "execution_count": 3,
   "metadata": {
    "execution": {
     "iopub.execute_input": "2023-07-06T09:55:05.688371Z",
     "iopub.status.busy": "2023-07-06T09:55:05.687747Z",
     "iopub.status.idle": "2023-07-06T09:55:06.103830Z",
     "shell.execute_reply": "2023-07-06T09:55:06.102730Z",
     "shell.execute_reply.started": "2023-07-06T09:55:05.688340Z"
    }
   },
   "outputs": [],
   "source": [
    "def glassdoor_scraper(keyword, num_pages=20):\n",
    "    options = Options()\n",
    "    options.add_argument(\"window-size=1920,1080\")\n",
    "    driver.get(\"https://www.glassdoor.co.in/Job/Home/recentActivity.htm\")\n",
    "    time.sleep(1)\n",
    "    search_input = driver.find_element_by_css_selector(\"[class='css-1j5jd7o']\")\n",
    "    search_input.send_keys(keyword)\n",
    "    search_input.send_keys(Keys.ENTER)\n",
    "    time.sleep(5)\n",
    "    \n",
    "    \n",
    "    \n",
    "    \n",
    "    company_name = []\n",
    "    job_title = []\n",
    "    salary_est = []\n",
    "    location = []\n",
    "    job_description = []\n",
    "    salary_estimate = []\n",
    "    company_size = []\n",
    "    company_type = []\n",
    "    company_sector = []\n",
    "    company_industry = []\n",
    "    company_founded = []\n",
    "    company_revenue = []\n",
    "    \n",
    "    #Set current page to 1\n",
    "    current_page = 1     \n",
    "    time.sleep(3)\n",
    "    while current_page <= num_pages:   \n",
    "        \n",
    "        done = False\n",
    "        while not done:\n",
    "            job_cards = driver.find_elements_by_xpath(\"//article[@id='MainCol']//ul/li[@data-adv-type='GENERAL']\")\n",
    "            for card in job_cards:\n",
    "                card.click()\n",
    "                time.sleep(2)\n",
    "                #Closes the signup prompt\n",
    "                try:\n",
    "                    driver.find_element_by_xpath(\".//span[@class='SVGInline modal_closeIcon']\").click()\n",
    "                    time.sleep(2)\n",
    "                except NoSuchElementException:\n",
    "                    time.sleep(2)\n",
    "                    pass\n",
    "                #Expands the Description section by clicking on Show More\n",
    "                try:\n",
    "                    driver.find_element_by_xpath(\"//div[@class='css-t3xrds e856ufb4']\").click()\n",
    "                    time.sleep(1)\n",
    "                except NoSuchElementException:\n",
    "                    card.click()\n",
    "                    print(str(current_page) + '#ERROR: no such element')\n",
    "                    time.sleep(30)\n",
    "                    driver.find_element_by_xpath(\"//div[@class='css-t3xrds e856ufb4']\").click()\n",
    "                except ElementNotInteractableException:\n",
    "                    card.click()\n",
    "                    driver.implicitly_wait(30)\n",
    "                    print(str(current_page) + '#ERROR: not interactable')\n",
    "                    driver.find_element_by_xpath(\"//div[@class='css-t3xrds e856ufb4']\").click()\n",
    "                #Scrape \n",
    "                try:\n",
    "                    company_name.append(driver.find_element_by_xpath(\"//div[@class='css-87uc0g e1tk4kwz1']\").text)\n",
    "                except:\n",
    "                    company_name.append(\"#N/A\")\n",
    "                    pass\n",
    "                try:\n",
    "                    job_title.append(driver.find_element_by_xpath(\"//div[@class='css-1vg6q84 e1tk4kwz4']\").text)\n",
    "                except:\n",
    "                    job_title.append(\"#N/A\")\n",
    "                    pass\n",
    "                try:\n",
    "                    location.append(driver.find_element_by_xpath(\"//div[@class='css-56kyx5 e1tk4kwz1']\").text)\n",
    "                except:\n",
    "                    location.append(\"#N/A\")\n",
    "                    pass\n",
    "                try:\n",
    "                    job_description.append(driver.find_element_by_xpath(\"//div[@id='JobDescriptionContainer']\").text)\n",
    "                except:\n",
    "                    job_description.append(\"#N/A\")\n",
    "                    pass\n",
    "                try:\n",
    "                    salary_estimate.append(driver.find_element_by_xpath(\"//div[@class='css-y2jiyn e2u4hf18']\").text)\n",
    "                except:\n",
    "                    salary_estimate.append(\"#N/A\")\n",
    "                    pass\n",
    "                \n",
    "                try:\n",
    "                    company_size.append(driver.find_element_by_xpath(\"//div[@id='CompanyContainer']//span[text()='Size']//following-sibling::*\").text)\n",
    "                except:\n",
    "                    company_size.append(\"#N/A\")\n",
    "                    pass\n",
    "                \n",
    "                try:\n",
    "                    company_type.append(driver.find_element_by_xpath(\"//div[@id='CompanyContainer']//span[text()='Type']//following-sibling::*\").text)\n",
    "                except:\n",
    "                    company_type.append(\"#N/A\")\n",
    "                    pass\n",
    "                    \n",
    "                try:\n",
    "                    company_sector.append(driver.find_element_by_xpath(\"//div[@id='CompanyContainer']//span[text()='Sector']//following-sibling::*\").text)\n",
    "                except:\n",
    "                    company_sector.append(\"#N/A\")\n",
    "                    pass\n",
    "                    \n",
    "                try:\n",
    "                    company_industry.append(driver.find_element_by_xpath(\"//div[@id='CompanyContainer']//span[text()='Industry']//following-sibling::*\").text)\n",
    "                except:\n",
    "                    company_industry.append(\"#N/A\")\n",
    "                    pass\n",
    "                    \n",
    "                try:\n",
    "                    company_founded.append(driver.find_element_by_xpath(\"//div[@id='CompanyContainer']//span[text()='Founded']//following-sibling::*\").text)\n",
    "                except:\n",
    "                    company_founded.append(\"#N/A\")\n",
    "                    pass\n",
    "                    \n",
    "                try:\n",
    "                    company_revenue.append(driver.find_element_by_xpath(\"//div[@id='CompanyContainer']//span[text()='Revenue']//following-sibling::*\").text)\n",
    "                except:\n",
    "                    company_revenue.append(\"#N/A\")\n",
    "                    pass\n",
    "                    \n",
    "                    \n",
    "                    \n",
    "                    \n",
    "                done = True\n",
    "                \n",
    "       # Moves to the next page         \n",
    "        if done:\n",
    "            print(str(current_page) + ' ' + 'complete from' +' '+ str(num_pages))\n",
    "            driver.find_element_by_xpath(\"//span[@alt='next-icon']\").click()   \n",
    "            current_page = current_page + 1\n",
    "            time.sleep(4)\n",
    "    driver.close()\n",
    "    df = pd.DataFrame({'company': company_name, \n",
    "    'job title': job_title,\n",
    "    'location': location,\n",
    "    'job description': job_description,\n",
    "    'salary estimate': salary_estimate,\n",
    "    'company_size': company_size,\n",
    "    'company_type': company_type,\n",
    "    'company_sector': company_sector,\n",
    "    'company_industry' : company_industry, 'company_founded' : company_founded, 'company_revenue': company_revenue})\n",
    "    \n",
    "    \n",
    "    return df                  \n",
    "                       \n",
    "                       \n"
   ]
  },
  {
   "cell_type": "markdown",
   "metadata": {},
   "source": [
    "# 4.Test :"
   ]
  },
  {
   "cell_type": "code",
   "execution_count": 4,
   "metadata": {},
   "outputs": [],
   "source": [
    "driver=open_edge_browser()\n"
   ]
  },
  {
   "cell_type": "code",
   "execution_count": null,
   "metadata": {},
   "outputs": [],
   "source": [
    "# let's scrape Data Engineer jobs listed in the first page.\n",
    "data_engineer=glassdoor_scraper(\"Data Engineer\", 1)\n"
   ]
  },
  {
   "cell_type": "code",
   "execution_count": null,
   "metadata": {},
   "outputs": [],
   "source": [
    "dfs=[]\n",
    "Keywords=['Data Engineer','Data Science','Finance','Business Analyst']\n",
    "for keyword in Keywords:\n",
    "    df=glassdoor_scraper(keyword, 20)\n",
    "    dfs.append(df)"
   ]
  }
 ],
 "metadata": {
  "kernelspec": {
   "display_name": "Python 3 (ipykernel)",
   "language": "python",
   "name": "python3"
  },
  "language_info": {
   "codemirror_mode": {
    "name": "ipython",
    "version": 3
   },
   "file_extension": ".py",
   "mimetype": "text/x-python",
   "name": "python",
   "nbconvert_exporter": "python",
   "pygments_lexer": "ipython3",
   "version": "3.9.7"
  }
 },
 "nbformat": 4,
 "nbformat_minor": 4
}
